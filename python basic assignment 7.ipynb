{
 "cells": [
  {
   "cell_type": "markdown",
   "id": "59c0429f",
   "metadata": {},
   "source": [
    "1.What is the name of the feature responsible for generating Regex objects?\n",
    "Ans. We ca n generate regex objects by using re.compile() functions by which we can store a pattern and reuse it"
   ]
  },
  {
   "cell_type": "markdown",
   "id": "5030d3db",
   "metadata": {},
   "source": [
    "2. Why do raw strings often appear in Regex objects?\n",
    "Ans- Since we use backslash in special sequences it will be ususally considered as an escape character by python interpreter so to avoid that we use raw strings(r) if we donot want to consider any escape characters and all the string entered is for searching a particular pattern."
   ]
  },
  {
   "cell_type": "markdown",
   "id": "ab5e2ffd",
   "metadata": {},
   "source": [
    "3. What is the return value of the search() method?\n",
    "Ans- search() method returns a match object which hold the information about span()-location of match with index, string-the string in which the match is found which is passed to the function and group()- the part of the string where there is a match"
   ]
  },
  {
   "cell_type": "markdown",
   "id": "8990e948",
   "metadata": {},
   "source": [
    "4. From a Match item, how do you get the actual strings that match the pattern?\n",
    "Ans- group() will gives the actual strings that match the pattern"
   ]
  },
  {
   "cell_type": "markdown",
   "id": "d8e47183",
   "metadata": {},
   "source": [
    "5. In the regex which created from the r'(\\d\\d\\d)-(\\d\\d\\d-\\d\\d\\d\\d)', what does group zero cover? Group 2? Group 1?\n",
    "Ans- group zero gives entire match, group 1 gives first grouping ie., (\\d\\d\\d) and group 2 gives second grouping of (\\d\\d\\d-\\d\\d\\d\\d) "
   ]
  },
  {
   "cell_type": "markdown",
   "id": "837754c6",
   "metadata": {},
   "source": [
    " 6. In standard expression syntax, parentheses and intervals have distinct meanings. How can you tell a regex that you want it to fit real parentheses and periods?\n",
    " Ans- We can use a backslash \\ before them to fit the pattern\n",
    " "
   ]
  },
  {
   "cell_type": "markdown",
   "id": "c665695c",
   "metadata": {},
   "source": [
    "7. The findall() method returns a string list or a list of string tuples. What causes it to return one of the two options?\n",
    "Ans- It returns list of strings if in matching pattern there is no group and list of sting tuples when there is grouping "
   ]
  },
  {
   "cell_type": "markdown",
   "id": "c5299447",
   "metadata": {},
   "source": [
    "8. In standard expressions, what does the | character mean?\n",
    "Ans- It represents either or means it searches for either of the two matches which ever is present it will return the match"
   ]
  },
  {
   "cell_type": "markdown",
   "id": "ff1e65ff",
   "metadata": {},
   "source": [
    "9. In regular expressions, what does the character stand for?\n",
    "Ans- question is incomplete"
   ]
  },
  {
   "cell_type": "markdown",
   "id": "ce461aea",
   "metadata": {},
   "source": [
    "10.In regular expressions, what is the difference between the + and * characters?\n",
    "Ans- * searches for minimum zero and more characters while + searches for minimum 1 or more characters"
   ]
  },
  {
   "cell_type": "markdown",
   "id": "ec77b4c0",
   "metadata": {},
   "source": [
    "11. What is the difference between {4} and {4,5} in regular expression?\n",
    "Ans- number in the parenthesis specifies no of characters it represents if case of {4} it specifies 4 characters while in case of {4,5} it specifies 4 or 5 characters"
   ]
  },
  {
   "cell_type": "markdown",
   "id": "cfed764f",
   "metadata": {},
   "source": [
    "12. What do you mean by the \\d, \\w, and \\s shorthand character classes signify in regular expressions?\n",
    "Ans- all are special sequences having a meaning in search pattern. \\d represents a digit between 0 to 9, \\s represents white space character and \\w represents any word character from a to z, 0 to 9 and _"
   ]
  },
  {
   "cell_type": "markdown",
   "id": "114c8d1a",
   "metadata": {},
   "source": [
    "13. What do means by \\D, \\W, and \\S shorthand character classes signify in regular expressions?\n",
    "Ans- \\D represents a pattern where string doesnot contain digits\n",
    "\\W represents a pattern where string doesnot contain a word character\n",
    "\\S represents a pattern where string doesnot contain a white space character"
   ]
  },
  {
   "cell_type": "markdown",
   "id": "19890327",
   "metadata": {},
   "source": [
    "14. What is the difference between .*? and .*?\n",
    "Ans- .*? represents zero or one occurances of a character and followed  by ? which will limit the number of characters to be searched to one, .* represents minimum zero to any number of occurances of the character which will not limit the search"
   ]
  },
  {
   "cell_type": "markdown",
   "id": "27982e1a",
   "metadata": {},
   "source": [
    "15. What is the syntax for matching both numbers and lowercase letters with a character class?\n",
    "Ans- using the [a-z0-9] syntax we can search for any lowercase letters and numbers "
   ]
  },
  {
   "cell_type": "markdown",
   "id": "ab964cba",
   "metadata": {},
   "source": [
    "16. What is the procedure for making a normal expression in regex case insensitive?\n",
    "Ans- We can add a flag(re.IGNORECASE) in the match(), search() or findall() which can make the regex search pattern case insensitive "
   ]
  },
  {
   "cell_type": "markdown",
   "id": "0942d699",
   "metadata": {},
   "source": [
    "17. What does the . character normally match? What does it match if re.DOTALL is passed as 2nd argument in re.compile()?\n",
    "Ans- . normally matches any character except newline character and the search does for each line seperately but by adding re.DOTALL regex will even consider the whole string as one even includes newline characters as part of the string."
   ]
  },
  {
   "cell_type": "code",
   "execution_count": null,
   "id": "3faa4dba",
   "metadata": {},
   "outputs": [],
   "source": []
  }
 ],
 "metadata": {
  "kernelspec": {
   "display_name": "Python 3",
   "language": "python",
   "name": "python3"
  },
  "language_info": {
   "codemirror_mode": {
    "name": "ipython",
    "version": 3
   },
   "file_extension": ".py",
   "mimetype": "text/x-python",
   "name": "python",
   "nbconvert_exporter": "python",
   "pygments_lexer": "ipython3",
   "version": "3.8.8"
  }
 },
 "nbformat": 4,
 "nbformat_minor": 5
}
