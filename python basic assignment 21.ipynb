{
 "cells": [
  {
   "cell_type": "code",
   "execution_count": null,
   "id": "b077a714",
   "metadata": {},
   "outputs": [],
   "source": [
    "1. Add the current date to the text file today.txt as a string.\n"
   ]
  },
  {
   "cell_type": "code",
   "execution_count": 55,
   "id": "b0becf29",
   "metadata": {},
   "outputs": [],
   "source": [
    "import datetime\n",
    "file=open(\"today.txt\",\"w\")\n",
    "date=datetime.datetime.today()\n",
    "#file.write(str(date))\n",
    "file.write(date.strftime('%Y/%m/%d,%H:%M:%S'))\n",
    "file.close()"
   ]
  },
  {
   "cell_type": "raw",
   "id": "47b2837b",
   "metadata": {},
   "source": [
    "2. Read the text file today.txt into the string today_string"
   ]
  },
  {
   "cell_type": "code",
   "execution_count": 56,
   "id": "1cc6acf4",
   "metadata": {},
   "outputs": [
    {
     "data": {
      "text/plain": [
       "'2021/11/23,22:51:08'"
      ]
     },
     "execution_count": 56,
     "metadata": {},
     "output_type": "execute_result"
    }
   ],
   "source": [
    "file=open(\"today.txt\")\n",
    "today_string=file.read()\n",
    "today_string\n"
   ]
  },
  {
   "cell_type": "code",
   "execution_count": 49,
   "id": "2f778a07",
   "metadata": {},
   "outputs": [
    {
     "data": {
      "text/plain": [
       "23"
      ]
     },
     "execution_count": 49,
     "metadata": {},
     "output_type": "execute_result"
    }
   ],
   "source": [
    "3. Parse the date from today_string."
   ]
  },
  {
   "cell_type": "code",
   "execution_count": 70,
   "id": "8ce0b3ce",
   "metadata": {},
   "outputs": [
    {
     "data": {
      "text/plain": [
       "23"
      ]
     },
     "execution_count": 70,
     "metadata": {},
     "output_type": "execute_result"
    }
   ],
   "source": [
    "date1=datetime.datetime.strptime(today_string,'%Y/%m/%d,%H:%M:%S')\n",
    "date1.day"
   ]
  },
  {
   "cell_type": "code",
   "execution_count": null,
   "id": "577fa14e",
   "metadata": {},
   "outputs": [],
   "source": [
    "4. List the files in your current directory"
   ]
  },
  {
   "cell_type": "code",
   "execution_count": 22,
   "id": "47c91d14",
   "metadata": {},
   "outputs": [
    {
     "data": {
      "text/plain": [
       "['.ipynb_checkpoints',\n",
       " 'book.csv',\n",
       " 'Deepu homework.ipynb',\n",
       " 'EDA class 7th Aug .ipynb',\n",
       " 'file1.txt',\n",
       " 'file2.txt',\n",
       " 'file3.txt',\n",
       " 'logistic regression.ipynb',\n",
       " 'Machine learning decision tree.ipynb',\n",
       " 'Programming basic assignment 10.ipynb',\n",
       " 'python basic assignment 10.ipynb',\n",
       " 'python basic assignment 11.ipynb',\n",
       " 'python basic assignment 12.ipynb',\n",
       " 'python basic assignment 13.ipynb',\n",
       " 'python basic assignment 14.ipynb',\n",
       " 'python basic assignment 15.ipynb',\n",
       " 'python basic assignment 16.ipynb',\n",
       " 'python basic assignment 17.ipynb',\n",
       " 'python basic assignment 18.ipynb',\n",
       " 'python basic assignment 19.ipynb',\n",
       " 'python basic assignment 20.ipynb',\n",
       " 'python basic assignment 21.ipynb',\n",
       " 'python basic assignment 7.ipynb',\n",
       " 'python basic assignment 8.ipynb',\n",
       " 'python basic assignment 9.ipynb',\n",
       " 'python basic programming assignment 9.ipynb',\n",
       " 'python class 22nd aug 2021.ipynb',\n",
       " 'python maintenance prediction data set practice.ipynb',\n",
       " 'python prgramming assignment 5.ipynb',\n",
       " 'python programming assignment 6.ipynb',\n",
       " 'python programming assignment 7.ipynb',\n",
       " 'test.txt',\n",
       " 'today.txt',\n",
       " 'Untitled.ipynb',\n",
       " 'Untitled1.ipynb',\n",
       " 'zoo.py',\n",
       " '__pycache__']"
      ]
     },
     "execution_count": 22,
     "metadata": {},
     "output_type": "execute_result"
    }
   ],
   "source": [
    "import os\n",
    "os.listdir()"
   ]
  },
  {
   "cell_type": "code",
   "execution_count": null,
   "id": "2812bdf6",
   "metadata": {},
   "outputs": [],
   "source": [
    "5. Create a list of all of the files in your parent directory (minimum five files should be available)."
   ]
  },
  {
   "cell_type": "code",
   "execution_count": 60,
   "id": "434b9fe2",
   "metadata": {},
   "outputs": [
    {
     "data": {
      "text/plain": [
       "['.ipynb_checkpoints',\n",
       " 'book.csv',\n",
       " 'Deepu homework.ipynb',\n",
       " 'EDA class 7th Aug .ipynb',\n",
       " 'file1.txt',\n",
       " 'file2.txt',\n",
       " 'file3.txt',\n",
       " 'logistic regression.ipynb',\n",
       " 'Machine learning decision tree.ipynb',\n",
       " 'Programming basic assignment 10.ipynb',\n",
       " 'python basic assignment 10.ipynb',\n",
       " 'python basic assignment 11.ipynb',\n",
       " 'python basic assignment 12.ipynb',\n",
       " 'python basic assignment 13.ipynb',\n",
       " 'python basic assignment 14.ipynb',\n",
       " 'python basic assignment 15.ipynb',\n",
       " 'python basic assignment 16.ipynb',\n",
       " 'python basic assignment 17.ipynb',\n",
       " 'python basic assignment 18.ipynb',\n",
       " 'python basic assignment 19.ipynb',\n",
       " 'python basic assignment 20.ipynb',\n",
       " 'python basic assignment 21.ipynb',\n",
       " 'python basic assignment 7.ipynb',\n",
       " 'python basic assignment 8.ipynb',\n",
       " 'python basic assignment 9.ipynb',\n",
       " 'python basic programming assignment 9.ipynb',\n",
       " 'python class 22nd aug 2021.ipynb',\n",
       " 'python maintenance prediction data set practice.ipynb',\n",
       " 'python prgramming assignment 5.ipynb',\n",
       " 'python programming assignment 6.ipynb',\n",
       " 'python programming assignment 7.ipynb',\n",
       " 'test.txt',\n",
       " 'today.txt',\n",
       " 'Untitled.ipynb',\n",
       " 'Untitled1.ipynb',\n",
       " 'zoo.py',\n",
       " '__pycache__']"
      ]
     },
     "execution_count": 60,
     "metadata": {},
     "output_type": "execute_result"
    }
   ],
   "source": [
    "import os\n",
    "lst=list(os.listdir())\n",
    "lst"
   ]
  },
  {
   "cell_type": "code",
   "execution_count": null,
   "id": "ad8106cc",
   "metadata": {},
   "outputs": [],
   "source": [
    "6. Use multiprocessing to create three separate processes. Make each one wait a random number of\n",
    "seconds between one and five, print the current time, and then exit."
   ]
  },
  {
   "cell_type": "code",
   "execution_count": 91,
   "id": "02b30bbe",
   "metadata": {},
   "outputs": [
    {
     "data": {
      "text/plain": [
       "<subprocess.Popen at 0x26e730e7820>"
      ]
     },
     "execution_count": 91,
     "metadata": {},
     "output_type": "execute_result"
    }
   ],
   "source": [
    "import subprocess\n",
    "subprocess.Popen(['start','p1.py'],shell=True)"
   ]
  },
  {
   "cell_type": "code",
   "execution_count": null,
   "id": "dacbe036",
   "metadata": {},
   "outputs": [],
   "source": [
    "7. Create a date object of your day of birth."
   ]
  },
  {
   "cell_type": "code",
   "execution_count": 65,
   "id": "47680b18",
   "metadata": {},
   "outputs": [
    {
     "name": "stdout",
     "output_type": "stream",
     "text": [
      "1995-05-21 12:15:00\n"
     ]
    }
   ],
   "source": [
    "import datetime\n",
    "bday=datetime.datetime(1995,5,21,12,15,0)\n",
    "print(bday)"
   ]
  },
  {
   "cell_type": "code",
   "execution_count": null,
   "id": "8242dc12",
   "metadata": {},
   "outputs": [],
   "source": [
    "8. What day of the week was your day of birth?"
   ]
  },
  {
   "cell_type": "code",
   "execution_count": 80,
   "id": "0d3a3699",
   "metadata": {},
   "outputs": [
    {
     "name": "stdout",
     "output_type": "stream",
     "text": [
      "7\n"
     ]
    }
   ],
   "source": [
    "print(bday.isoweekday())"
   ]
  },
  {
   "cell_type": "code",
   "execution_count": null,
   "id": "c7a29229",
   "metadata": {},
   "outputs": [],
   "source": [
    "9. When will you be (or when were you) 10,000 days old?"
   ]
  },
  {
   "cell_type": "code",
   "execution_count": 84,
   "id": "bbee1c51",
   "metadata": {},
   "outputs": [
    {
     "data": {
      "text/plain": [
       "datetime.datetime(2022, 10, 6, 12, 15)"
      ]
     },
     "execution_count": 84,
     "metadata": {},
     "output_type": "execute_result"
    }
   ],
   "source": [
    "import datetime\n",
    "afterdate=datetime.timedelta(days=10000)\n",
    "bday+afterdate"
   ]
  },
  {
   "cell_type": "code",
   "execution_count": null,
   "id": "f2c7dc0a",
   "metadata": {},
   "outputs": [],
   "source": []
  }
 ],
 "metadata": {
  "kernelspec": {
   "display_name": "Python 3",
   "language": "python",
   "name": "python3"
  },
  "language_info": {
   "codemirror_mode": {
    "name": "ipython",
    "version": 3
   },
   "file_extension": ".py",
   "mimetype": "text/x-python",
   "name": "python",
   "nbconvert_exporter": "python",
   "pygments_lexer": "ipython3",
   "version": "3.8.8"
  }
 },
 "nbformat": 4,
 "nbformat_minor": 5
}
