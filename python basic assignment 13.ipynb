{
 "cells": [
  {
   "cell_type": "markdown",
   "id": "e7630e3c",
   "metadata": {},
   "source": [
    "1.What advantages do Excel spreadsheets have over CSV spreadsheets?\n",
    "Ans-Excel has many spread sheets with different data types and options for font,templates and color settings but csv has only simple string data structures in single sheet and no options for formatting"
   ]
  },
  {
   "cell_type": "markdown",
   "id": "c96f7086",
   "metadata": {},
   "source": [
    "2.What do you pass to csv.reader() and csv.writer() to create reader and writer objects?\n",
    "Ans-we pass the csv file objects after opening in open function with correct mode"
   ]
  },
  {
   "cell_type": "markdown",
   "id": "c7d4fb25",
   "metadata": {},
   "source": [
    "3. What modes do File objects for reader and writer objects need to be opened in?\n",
    "Ans-For reader in r read mode and for writer in write or a append modes"
   ]
  },
  {
   "cell_type": "markdown",
   "id": "f79e5c83",
   "metadata": {},
   "source": [
    "4. What method takes a list argument and writes it to a CSV file?\n",
    "Ans-csv.writerrow() method takes a list as an argument and writes it in a csv file"
   ]
  },
  {
   "cell_type": "markdown",
   "id": "2d349bf4",
   "metadata": {},
   "source": [
    "5. What do the keyword arguments delimiter and line terminator do?\n",
    "Ans-delimiter is used to specify or change the default delimiter comma which is used to separate cells  and line limiter which is by default newline is used to seperate rows"
   ]
  },
  {
   "cell_type": "markdown",
   "id": "cfdf20db",
   "metadata": {},
   "source": [
    "6. What function takes a string of JSON data and returns a Python data structure?\n",
    "Ans-JSON.loads()"
   ]
  },
  {
   "cell_type": "markdown",
   "id": "deb889b3",
   "metadata": {},
   "source": [
    "7. What function takes a Python data structure and returns a string of JSON data?\n",
    "Ans-JSON.dumps()"
   ]
  },
  {
   "cell_type": "code",
   "execution_count": null,
   "id": "adcaba40",
   "metadata": {},
   "outputs": [],
   "source": []
  }
 ],
 "metadata": {
  "kernelspec": {
   "display_name": "Python 3",
   "language": "python",
   "name": "python3"
  },
  "language_info": {
   "codemirror_mode": {
    "name": "ipython",
    "version": 3
   },
   "file_extension": ".py",
   "mimetype": "text/x-python",
   "name": "python",
   "nbconvert_exporter": "python",
   "pygments_lexer": "ipython3",
   "version": "3.8.8"
  }
 },
 "nbformat": 4,
 "nbformat_minor": 5
}
