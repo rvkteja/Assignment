{
 "cells": [
  {
   "cell_type": "markdown",
   "id": "b60ba313",
   "metadata": {},
   "source": [
    "1.What are escape characters, and how do you use them?\n",
    "Ans- To insert characters that are illegal in a string we use escape characters to allow them. we use backslash before the illegal character like \\n and  \\'"
   ]
  },
  {
   "cell_type": "markdown",
   "id": "ab1596f0",
   "metadata": {},
   "source": [
    "2. What do the escape characters n and t stand for?\n",
    "Ans- \\n stands for new line and \\t stands for tab "
   ]
  },
  {
   "cell_type": "markdown",
   "id": "d8a441ec",
   "metadata": {},
   "source": [
    "3. What is the way to include backslash characters in a string?\n",
    "Ans- type backslash followed by the character you want to insert"
   ]
  },
  {
   "cell_type": "markdown",
   "id": "485afb09",
   "metadata": {},
   "source": [
    "4.The string &quot\"Howl's Moving Castle\" is a correct value. Why isn't the single quote character in the\n",
    "word Howl's not escaped a problem?\n",
    "Ans- single quote inside a double quoted string is allowed and viceversa "
   ]
  },
  {
   "cell_type": "markdown",
   "id": "65659954",
   "metadata": {},
   "source": [
    "5. How do you write a string of newlines if you don't want to use the n character?\n",
    "Ans- DONT KNOW"
   ]
  },
  {
   "cell_type": "markdown",
   "id": "d61fb180",
   "metadata": {},
   "source": [
    "6. What are the values of the given expressions?\n",
    "\"Hello, world!\"[1],[0:5],[:5],[3:]\n",
    "Ans- \"e\", \"Hello\", \"Hello\", \"lo, world!\""
   ]
  },
  {
   "cell_type": "markdown",
   "id": "0338f0f9",
   "metadata": {},
   "source": [
    "7.What are the values of the following expressions?\n",
    "Ans- 'Hello'.upper()---- HELLO\n",
    "'Hello'.upper().isupper() ---- True\n",
    "'Hello'.upper().lower() ---- hello"
   ]
  },
  {
   "cell_type": "markdown",
   "id": "9239eb4f",
   "metadata": {},
   "source": [
    "8. What are the values of the following expressions?\n",
    "Ans- \"Remember, remember, the fifth of July.\".split()----['Remember,', 'remember,', 'the', 'fifth', 'of', 'July.']\n",
    "\"-\".join(\"There can only one.\".split())------'There-can-only-one.'"
   ]
  },
  {
   "cell_type": "markdown",
   "id": "fc2fa5a0",
   "metadata": {},
   "source": [
    "9. What are the methods for right-justifying, left-justifying, and centering a string?\n",
    "Ans- rjust(), ljust(), center()"
   ]
  },
  {
   "cell_type": "markdown",
   "id": "ab0e4b3a",
   "metadata": {},
   "source": [
    "10. What is the best way to remove whitespace characters from the start or end?\n",
    "Ans- strip()"
   ]
  },
  {
   "cell_type": "code",
   "execution_count": null,
   "id": "83d8c358",
   "metadata": {},
   "outputs": [],
   "source": []
  },
  {
   "cell_type": "code",
   "execution_count": null,
   "id": "672f8961",
   "metadata": {},
   "outputs": [],
   "source": []
  },
  {
   "cell_type": "code",
   "execution_count": null,
   "id": "51a52fa4",
   "metadata": {},
   "outputs": [],
   "source": []
  },
  {
   "cell_type": "code",
   "execution_count": null,
   "id": "038c4cf8",
   "metadata": {},
   "outputs": [],
   "source": []
  }
 ],
 "metadata": {
  "kernelspec": {
   "display_name": "Python 3",
   "language": "python",
   "name": "python3"
  },
  "language_info": {
   "codemirror_mode": {
    "name": "ipython",
    "version": 3
   },
   "file_extension": ".py",
   "mimetype": "text/x-python",
   "name": "python",
   "nbconvert_exporter": "python",
   "pygments_lexer": "ipython3",
   "version": "3.8.8"
  }
 },
 "nbformat": 4,
 "nbformat_minor": 5
}
