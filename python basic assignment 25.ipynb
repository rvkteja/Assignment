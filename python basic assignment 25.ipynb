{
 "cells": [
  {
   "cell_type": "raw",
   "id": "5dd24ff9",
   "metadata": {},
   "source": [
    "1) . What is the difference between enclosing a list comprehension in square brackets and\n",
    "parentheses?\n",
    "Ans- enclosing in squarebrackets will give us list compreshension while in parentheses will give us generator object"
   ]
  },
  {
   "cell_type": "raw",
   "id": "0485be8d",
   "metadata": {},
   "source": [
    "2) What is the relationship between generators and iterators?\n",
    "Ans- All generators are iterators while all iterators are not genertors. Means generators is a subclass of iterators but it has the capability to create infinite iterations whereas iterator is capable of countable no of iterations. In simple generator is a custom form of an iterator and very simpe to execute"
   ]
  },
  {
   "cell_type": "raw",
   "id": "495b2937",
   "metadata": {},
   "source": [
    "3) What are the signs that a function is a generator function?\n",
    "Ans- When generator objects are created by using a function or a comprehension, Generator object straight away will not start executing the function, We can use for-loop or next() function to iterate a generator object over a loop to know if a function is a generator function. Also execution of the function will not stop after returing a value and it will continue the execution when it is called again and uses local variables to store the previously returned values and states."
   ]
  },
  {
   "cell_type": "raw",
   "id": "3eeb14a2",
   "metadata": {},
   "source": [
    "4) What is the purpose of a yield statement?\n",
    "Ans- yeild statement will pause the execution of the function after returning a value but will not terminate the function so that the local variables are still active containing the previously executed data for next iteration when the function is called"
   ]
  },
  {
   "cell_type": "raw",
   "id": "97102855",
   "metadata": {},
   "source": [
    "5) What is the relationship between map calls and list comprehensions? Make a comparison and\n",
    "contrast between the two.\n",
    "Ans- map() function call takes a function with the specified logic to be applied to the iterables and returns a map object containig output values after applied on iterables\n",
    "List comprehension also applies a specific logic on the iterables which returns a list of output values.\n",
    "\n",
    "But list returns a list of values while map returns map object\n",
    "list comprehesion is also used to filter values with if condition while it is not possibile in map\n",
    "list is faster in terms of evaluation in case expression for logic is complex and it is also simple to read"
   ]
  },
  {
   "cell_type": "code",
   "execution_count": null,
   "id": "c2b43e73",
   "metadata": {},
   "outputs": [],
   "source": []
  },
  {
   "cell_type": "code",
   "execution_count": null,
   "id": "b66da4c7",
   "metadata": {},
   "outputs": [],
   "source": []
  },
  {
   "cell_type": "code",
   "execution_count": null,
   "id": "89256664",
   "metadata": {},
   "outputs": [],
   "source": []
  }
 ],
 "metadata": {
  "kernelspec": {
   "display_name": "Python 3",
   "language": "python",
   "name": "python3"
  },
  "language_info": {
   "codemirror_mode": {
    "name": "ipython",
    "version": 3
   },
   "file_extension": ".py",
   "mimetype": "text/x-python",
   "name": "python",
   "nbconvert_exporter": "python",
   "pygments_lexer": "ipython3",
   "version": "3.8.8"
  }
 },
 "nbformat": 4,
 "nbformat_minor": 5
}
