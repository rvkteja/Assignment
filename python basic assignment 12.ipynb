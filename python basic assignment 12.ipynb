{
 "cells": [
  {
   "cell_type": "code",
   "execution_count": null,
   "id": "8fd493f0",
   "metadata": {},
   "outputs": [],
   "source": [
    "1. In what modes should the PdfFileReader() and PdfFileWriter() File objects will be opened?\n",
    "Ans- read and write binary modes respectively"
   ]
  },
  {
   "cell_type": "code",
   "execution_count": null,
   "id": "eb2621ad",
   "metadata": {},
   "outputs": [],
   "source": [
    "2. From a PdfFileReader object, how do you get a Page object for page 5?\n",
    "Ans- using getPage(4) method on PfdFileReader object will give us the page 5 object"
   ]
  },
  {
   "cell_type": "code",
   "execution_count": null,
   "id": "32fd5adc",
   "metadata": {},
   "outputs": [],
   "source": [
    "3. What PdfFileReader variable stores the number of pages in the PDF document?\n",
    "Ans- numPages"
   ]
  },
  {
   "cell_type": "code",
   "execution_count": null,
   "id": "06e08005",
   "metadata": {},
   "outputs": [],
   "source": [
    "4. If a PdfFileReader object’s PDF is encrypted with the password swordfish, what must you do\n",
    "before you can obtain Page objects from it?\n",
    "Ans- we have decrypt it using decrypt('swordfish') on PdfFileReader object"
   ]
  },
  {
   "cell_type": "code",
   "execution_count": null,
   "id": "4afc0cd8",
   "metadata": {},
   "outputs": [],
   "source": [
    "5. What methods do you use to rotate a page?\n",
    "Ans- rotateClockwise() and rotateCounterClockwise() methods are used for rotation"
   ]
  },
  {
   "cell_type": "code",
   "execution_count": null,
   "id": "5bc91069",
   "metadata": {},
   "outputs": [],
   "source": [
    "6. What is the difference between a Run object and a Paragraph object?\n",
    "Ans- Run object gives the same style of text in a paragraph, a paragraph may contain multiple run objects"
   ]
  },
  {
   "cell_type": "code",
   "execution_count": null,
   "id": "263cfcbd",
   "metadata": {},
   "outputs": [],
   "source": [
    "7. How do you obtain a list of Paragraph objects for a Document object that’s stored in a variable\n",
    "named doc?\n",
    "Ans- doc.Paragraphs"
   ]
  },
  {
   "cell_type": "code",
   "execution_count": null,
   "id": "cb68481f",
   "metadata": {},
   "outputs": [],
   "source": [
    "8. What type of object has bold, underline, italic, strike, and outline variables?\n",
    "Ans- run object has all the above attributes"
   ]
  },
  {
   "cell_type": "raw",
   "id": "014661b4",
   "metadata": {},
   "source": [
    "9. What is the difference between False, True, and None for the bold variable?\n",
    "Ans- False will disable bold no matter what style is applied to run object and True will enable it to be bold, while None will make sure it applies whatever style specifies"
   ]
  },
  {
   "cell_type": "code",
   "execution_count": null,
   "id": "16a2c896",
   "metadata": {},
   "outputs": [],
   "source": [
    "10. How do you create a Document object for a new Word document?\n",
    "Ans- docx.Document() method will create new document object "
   ]
  },
  {
   "cell_type": "code",
   "execution_count": null,
   "id": "2d821117",
   "metadata": {},
   "outputs": [],
   "source": [
    "11. How do you add a paragraph with the text &#39;Hello, there!&#39; to a Document object stored in a\n",
    "variable named doc?\n",
    "Ans-doc.add_paragraph(\"Hello, there!\")"
   ]
  },
  {
   "cell_type": "code",
   "execution_count": null,
   "id": "9623c9cb",
   "metadata": {},
   "outputs": [],
   "source": [
    "12. What integers represent the levels of headings available in Word documents?\n",
    "Ans-   0- Title heading given at the top of the documents\n",
    "1- Main heading\n",
    "2-sub heading and so on till 4"
   ]
  },
  {
   "cell_type": "code",
   "execution_count": null,
   "id": "f4e5e643",
   "metadata": {},
   "outputs": [],
   "source": []
  },
  {
   "cell_type": "code",
   "execution_count": null,
   "id": "701afd40",
   "metadata": {},
   "outputs": [],
   "source": []
  }
 ],
 "metadata": {
  "kernelspec": {
   "display_name": "Python 3",
   "language": "python",
   "name": "python3"
  },
  "language_info": {
   "codemirror_mode": {
    "name": "ipython",
    "version": 3
   },
   "file_extension": ".py",
   "mimetype": "text/x-python",
   "name": "python",
   "nbconvert_exporter": "python",
   "pygments_lexer": "ipython3",
   "version": "3.8.8"
  }
 },
 "nbformat": 4,
 "nbformat_minor": 5
}
