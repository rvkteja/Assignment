{
 "cells": [
  {
   "cell_type": "raw",
   "id": "74392fe0",
   "metadata": {},
   "source": [
    "1. What is the relationship between def statements and lambda expressions ?\n",
    "Ans- def will produce a function containing single or set of statments which may or maynot return a value while lambda is a function having a single expression which evaluates to a value "
   ]
  },
  {
   "cell_type": "raw",
   "id": "ce95fbd1",
   "metadata": {},
   "source": [
    "2. What is the benefit of lambda?\n",
    "Ans- We don't need to name the function, and since it evaluates to a value it is easily passed as an argument to higher order functions such as map"
   ]
  },
  {
   "cell_type": "raw",
   "id": "e68cacc6",
   "metadata": {},
   "source": [
    "3. Compare and contrast map, filter, and reduce.\n",
    "Ans- All of these are higher order functions which can take functions as an input and produce an output also they can be passed as an input to other functions.\n",
    "map() uses the function passed as an argument and applies logic on the iterables to create a map object \n",
    "filter() appies the logic of function passed and returns elements whose values are true as a filter object\n",
    "reduce() has to be imported via from functools import reduce.. reduce will perform rolling computation on sequentila pairs of values in a list. It is usually used when we have to obtain aggregate result of computations on a sequence"
   ]
  },
  {
   "cell_type": "raw",
   "id": "15fd7f87",
   "metadata": {},
   "source": [
    "4. What are function annotations, and how are they used?\n",
    "Ans- Function annotations are arbitary expressions associated to various parts of function like parameters and return value at compile time, they as such donot have any meaning in python, they are interpreted by third party libraries and can be used as required like just simply providing informtion about type()"
   ]
  },
  {
   "cell_type": "raw",
   "id": "59cfe7c8",
   "metadata": {},
   "source": [
    "5. What are recursive functions, and how are they used?\n",
    "Ans- recursion means a function calling itself, if there is no exit condition it becomes an infinite loop, so when the specific condition is met the loop will exit."
   ]
  },
  {
   "cell_type": "raw",
   "id": "7c238ec1",
   "metadata": {},
   "source": [
    "6. What are some general design guidelines for coding functions?\n",
    "1. Functions should not be very large, it is better to use simple understandable multiple functions that a very big one\n",
    "2. Naming convention should be maintained while using global,local,constants and functions(use camel case). Names should reflect the usage\n",
    "3. Maintaining proper indentation inside functions\n",
    "4. Using docstrings and comments inside functions to make the user understand the purpose and brief description of the various arguments functions take to properly utilize them\n",
    "5. Error coding and exception handling to follow a proper convention for ease of debugging "
   ]
  },
  {
   "cell_type": "raw",
   "id": "19b33434",
   "metadata": {},
   "source": [
    "7. Name three or more ways that functions can communicate results to a caller.\n",
    "Ans- Function can communicate results by simply returing implicitly a None object or explicitly with a return value "
   ]
  },
  {
   "cell_type": "code",
   "execution_count": null,
   "id": "30b37d54",
   "metadata": {},
   "outputs": [],
   "source": []
  },
  {
   "cell_type": "code",
   "execution_count": null,
   "id": "b237f183",
   "metadata": {},
   "outputs": [],
   "source": []
  },
  {
   "cell_type": "code",
   "execution_count": null,
   "id": "7a050d0d",
   "metadata": {},
   "outputs": [],
   "source": []
  },
  {
   "cell_type": "code",
   "execution_count": null,
   "id": "cab706c4",
   "metadata": {},
   "outputs": [],
   "source": []
  },
  {
   "cell_type": "code",
   "execution_count": null,
   "id": "e0d90143",
   "metadata": {},
   "outputs": [],
   "source": []
  }
 ],
 "metadata": {
  "kernelspec": {
   "display_name": "Python 3",
   "language": "python",
   "name": "python3"
  },
  "language_info": {
   "codemirror_mode": {
    "name": "ipython",
    "version": 3
   },
   "file_extension": ".py",
   "mimetype": "text/x-python",
   "name": "python",
   "nbconvert_exporter": "python",
   "pygments_lexer": "ipython3",
   "version": "3.8.8"
  }
 },
 "nbformat": 4,
 "nbformat_minor": 5
}
