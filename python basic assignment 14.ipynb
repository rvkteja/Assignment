{
 "cells": [
  {
   "cell_type": "markdown",
   "id": "38250736",
   "metadata": {},
   "source": [
    "1. What does RGBA stand for?\n",
    "Ans- Red Green Blue and Alpha, the combination of which will indicate which shade will be displayed"
   ]
  },
  {
   "cell_type": "markdown",
   "id": "3e3f11c3",
   "metadata": {},
   "source": [
    "2. From the Pillow module, how do you get the RGBA value of any images?\n",
    "Ans- first install pillow module\n",
    "then from PIL import Imagecolor module\n",
    "Imagecolor.getcolor(\"Red\",\"RGBA\") will give us the RGBA value as a tuple like (255,0,0,,255)"
   ]
  },
  {
   "cell_type": "markdown",
   "id": "8d22b526",
   "metadata": {},
   "source": [
    "3. What is a box tuple, and how does it work?\n",
    "Ans-The box tuple contains the four most important coordinates of the picture(left,top,right,bottom)"
   ]
  },
  {
   "cell_type": "markdown",
   "id": "6b99513c",
   "metadata": {},
   "source": [
    "4. Use your image and load in notebook then, How can you find out the width and height of an\n",
    "Image object?\n",
    "Ans-width,height=imgobj.size\n",
    "size will return a tuple of width and height respectively which you can extract from an image object"
   ]
  },
  {
   "cell_type": "markdown",
   "id": "bef65090",
   "metadata": {},
   "source": [
    "5. What method would you call to get Image object for a 100×100 image, excluding the lower-left\n",
    "quarter of it?\n",
    "Ans-we can call imgobj.crop(()) to get it "
   ]
  },
  {
   "cell_type": "markdown",
   "id": "6a1e94ba",
   "metadata": {},
   "source": [
    "6. After making changes to an Image object, how could you save it as an image file?\n",
    "Ans- Using save() method you can save the image in which ever format we want, we have to pass filename.format as an argument"
   ]
  },
  {
   "cell_type": "markdown",
   "id": "13e458f2",
   "metadata": {},
   "source": [
    "7. What module contains Pillow’s shape-drawing code?\n",
    "Ans- from PIL import ImageDraw, \n",
    "ImageDraw is the module in which we can use Draw method, ImageDraw.Draw()"
   ]
  },
  {
   "cell_type": "markdown",
   "id": "2d3b3d7b",
   "metadata": {},
   "source": [
    "8. Image objects do not have drawing methods. What kind of object does? How do you get this kind\n",
    "of object?\n",
    "Ans-we have to pass image objects into ImageDraw methods to obtain ImageDraw objects"
   ]
  },
  {
   "cell_type": "code",
   "execution_count": null,
   "id": "64951547",
   "metadata": {},
   "outputs": [],
   "source": []
  }
 ],
 "metadata": {
  "kernelspec": {
   "display_name": "Python 3",
   "language": "python",
   "name": "python3"
  },
  "language_info": {
   "codemirror_mode": {
    "name": "ipython",
    "version": 3
   },
   "file_extension": ".py",
   "mimetype": "text/x-python",
   "name": "python",
   "nbconvert_exporter": "python",
   "pygments_lexer": "ipython3",
   "version": "3.8.8"
  }
 },
 "nbformat": 4,
 "nbformat_minor": 5
}
