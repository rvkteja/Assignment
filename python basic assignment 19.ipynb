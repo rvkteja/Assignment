{
 "cells": [
  {
   "cell_type": "code",
   "execution_count": null,
   "id": "1c9e887c",
   "metadata": {},
   "outputs": [],
   "source": [
    "1. Make a class called Thing with no contents and print it. Then, create an object called example\n",
    "from this class and also print it. Are the printed values the same or different?"
   ]
  },
  {
   "cell_type": "code",
   "execution_count": 12,
   "id": "9b1bb92d",
   "metadata": {},
   "outputs": [
    {
     "name": "stdout",
     "output_type": "stream",
     "text": [
      "<class '__main__.Thing'>\n",
      "<__main__.Thing object at 0x000001DC58BA5FD0>\n"
     ]
    }
   ],
   "source": [
    "class Thing:\n",
    "    pass\n",
    "print(Thing)\n",
    "example=Thing()\n",
    "print((example))"
   ]
  },
  {
   "cell_type": "code",
   "execution_count": null,
   "id": "ed0181f0",
   "metadata": {},
   "outputs": [],
   "source": [
    "one value is a class and the other value is an object of class Thing"
   ]
  },
  {
   "cell_type": "code",
   "execution_count": null,
   "id": "ee747d06",
   "metadata": {},
   "outputs": [],
   "source": [
    "2. Create a new class called Thing2 and add the value &#39;abc&#39; to the letters class attribute. Letters\n",
    "should be printed."
   ]
  },
  {
   "cell_type": "code",
   "execution_count": 61,
   "id": "b4eb7d6f",
   "metadata": {},
   "outputs": [
    {
     "name": "stdout",
     "output_type": "stream",
     "text": [
      "abc\n"
     ]
    }
   ],
   "source": [
    "class Thing2:\n",
    "    letters=\"abc\"\n",
    "print(Thing2.letters)"
   ]
  },
  {
   "cell_type": "code",
   "execution_count": null,
   "id": "55befe50",
   "metadata": {},
   "outputs": [],
   "source": [
    "3. Make yet another class called, of course, Thing3. This time, assign the value &#39;xyz&#39; to an instance\n",
    "(object) attribute called letters. Print letters. Do you need to make an object from the class to do\n",
    "this?\n"
   ]
  },
  {
   "cell_type": "code",
   "execution_count": 14,
   "id": "ac1a5ca8",
   "metadata": {},
   "outputs": [
    {
     "name": "stdout",
     "output_type": "stream",
     "text": [
      "Accessible by everyone\n",
      "xyz\n"
     ]
    },
    {
     "data": {
      "text/plain": [
       "'Accessible by everyone'"
      ]
     },
     "execution_count": 14,
     "metadata": {},
     "output_type": "execute_result"
    }
   ],
   "source": [
    "class Thing3:\n",
    "    classvariable = \"Accessible by everyone\"\n",
    "    def __init__(self):\n",
    "        self.letters=\"xyz\"\n",
    "        print(Thing3.classvariable)\n",
    "example1=Thing3()\n",
    "print(example1.letters)\n",
    "# Yes we need and object from the class to do it since it is an instance variable it will not be accessible unless we create an object\n",
    "example1.classvariable"
   ]
  },
  {
   "cell_type": "code",
   "execution_count": null,
   "id": "1fa0e7e0",
   "metadata": {},
   "outputs": [],
   "source": [
    "4. Create an Element class with the instance attributes name, symbol, and number. Create a class\n",
    "object with the values &#39;Hydrogen,&#39; &#39;H,&#39; and 1."
   ]
  },
  {
   "cell_type": "code",
   "execution_count": 5,
   "id": "a1228936",
   "metadata": {},
   "outputs": [
    {
     "data": {
      "text/plain": [
       "'Hydrogen'"
      ]
     },
     "execution_count": 5,
     "metadata": {},
     "output_type": "execute_result"
    }
   ],
   "source": [
    "class Element:\n",
    "    def __init__(self,name,symbol,number):\n",
    "        self.name=name\n",
    "        self.symbol=symbol\n",
    "        self.number=number\n",
    "atom=Element(\"Hydrogen\",\"H\",1)\n",
    "atom.name"
   ]
  },
  {
   "cell_type": "code",
   "execution_count": null,
   "id": "e594331a",
   "metadata": {},
   "outputs": [],
   "source": [
    "5. Make a dictionary with these keys and values: &#39;name&#39;: &#39;Hydrogen&#39;, &#39;symbol&#39;: &#39;H&#39;, &#39;number&#39;: 1. Then,\n",
    "create an object called hydrogen from class Element using this dictionary."
   ]
  },
  {
   "cell_type": "code",
   "execution_count": 10,
   "id": "42ea402e",
   "metadata": {},
   "outputs": [],
   "source": [
    "dt={\"Name\":\"Hydrogen\",\"symbol\":\"H\",\"number\":1}\n",
    "hydrogen=Element(dt[\"Name\"],dt[\"symbol\"],dt[\"number\"])"
   ]
  },
  {
   "cell_type": "code",
   "execution_count": 7,
   "id": "66a1ccaf",
   "metadata": {},
   "outputs": [
    {
     "data": {
      "text/plain": [
       "dict_values(['Hydrogen', 'H', 1])"
      ]
     },
     "execution_count": 7,
     "metadata": {},
     "output_type": "execute_result"
    }
   ],
   "source": [
    "dt.values()"
   ]
  },
  {
   "cell_type": "code",
   "execution_count": null,
   "id": "84ab95a8",
   "metadata": {},
   "outputs": [],
   "source": [
    "6. For the Element class, define a method called dump() that prints the values of the object’s\n",
    "attributes (name, symbol, and number). Create the hydrogen object from this new definition and\n",
    "use dump() to print its attributes."
   ]
  },
  {
   "cell_type": "code",
   "execution_count": 15,
   "id": "86391bae",
   "metadata": {},
   "outputs": [
    {
     "name": "stdout",
     "output_type": "stream",
     "text": [
      "Hydrogen H 1\n"
     ]
    }
   ],
   "source": [
    "class Element:\n",
    "    def __init__(self,name,symbol,number):\n",
    "        self.name=name\n",
    "        self.symbol=symbol\n",
    "        self.number=number\n",
    "    def dump(self):\n",
    "        print(self.name,self.symbol,self.number)\n",
    "hydrogen=Element(\"Hydrogen\",\"H\",1)\n",
    "hydrogen.dump()"
   ]
  },
  {
   "cell_type": "code",
   "execution_count": null,
   "id": "bc453d9b",
   "metadata": {},
   "outputs": [],
   "source": [
    "7. Call print(hydrogen). In the definition of Element, change the name of method dump to __str__,\n",
    "create a new hydrogen object, and call print(hydrogen) again."
   ]
  },
  {
   "cell_type": "code",
   "execution_count": 16,
   "id": "136fc751",
   "metadata": {},
   "outputs": [
    {
     "name": "stdout",
     "output_type": "stream",
     "text": [
      "<__main__.Element object at 0x000001DC58BA5DF0>\n"
     ]
    }
   ],
   "source": [
    "print(hydrogen)"
   ]
  },
  {
   "cell_type": "code",
   "execution_count": 24,
   "id": "911f2cb5",
   "metadata": {},
   "outputs": [
    {
     "name": "stdout",
     "output_type": "stream",
     "text": [
      "['Hydrogen', 'H', '1']\n"
     ]
    }
   ],
   "source": [
    "class Element:\n",
    "    def __init__(self,name,symbol,number):\n",
    "        self.name=name\n",
    "        self.symbol=symbol\n",
    "        self.number=number\n",
    "    def __str__(self):\n",
    "        return str([str(self.name),str(self.symbol),str(self.number)])\n",
    "hydrogen=Element(\"Hydrogen\",\"H\",1)\n",
    "print(hydrogen)"
   ]
  },
  {
   "cell_type": "raw",
   "id": "660bb684",
   "metadata": {},
   "source": [
    "# in the above class we have changed the functionalities of the inbuilt method __str__ and customized it to return the instance attributes"
   ]
  },
  {
   "cell_type": "code",
   "execution_count": null,
   "id": "48a2884f",
   "metadata": {},
   "outputs": [],
   "source": [
    "8. Modify Element to make the attributes name, symbol, and number private. Define a getter\n",
    "property for each to return its value."
   ]
  },
  {
   "cell_type": "code",
   "execution_count": 53,
   "id": "821c9665",
   "metadata": {},
   "outputs": [],
   "source": [
    "class Element:\n",
    "    def __init__(self,name,symbol,number):\n",
    "        self.__name=name\n",
    "        self.__symbol=symbol\n",
    "        self.__number=number\n",
    "    "
   ]
  },
  {
   "cell_type": "code",
   "execution_count": null,
   "id": "6d35b249",
   "metadata": {},
   "outputs": [],
   "source": [
    "9. Define three classes: Bear, Rabbit, and Octothorpe. For each, define only one method: eats(). This\n",
    "should return &#39;berries&#39; (Bear), &#39;clover&#39; (Rabbit), or &#39;campers&#39; (Octothorpe). Create one object from\n",
    "each and print what it eats."
   ]
  },
  {
   "cell_type": "code",
   "execution_count": 58,
   "id": "6a72c10c",
   "metadata": {},
   "outputs": [
    {
     "name": "stdout",
     "output_type": "stream",
     "text": [
      "berries\n",
      "clover\n",
      "campers\n"
     ]
    }
   ],
   "source": [
    "class Bear:\n",
    "    def eats(self):\n",
    "        return \"berries\"\n",
    "\n",
    "class Rabbit:\n",
    "    def eats(self):\n",
    "        return \"clover\"\n",
    "class Octothrope:\n",
    "    def eats(self):\n",
    "        return \"campers\"\n",
    "br=Bear()\n",
    "print(br.eats())\n",
    "rb=Rabbit()\n",
    "print(rb.eats())\n",
    "oc=Octothrope()\n",
    "print(oc.eats())\n"
   ]
  },
  {
   "cell_type": "code",
   "execution_count": null,
   "id": "ea965eda",
   "metadata": {},
   "outputs": [],
   "source": [
    "10. Define these classes: Laser, Claw, and SmartPhone. Each has only one method: does(). This\n",
    "returns &#39;disintegrate&#39; (Laser), &#39;crush&#39; (Claw), or &#39;ring&#39; (SmartPhone). Then, define the class Robot that\n",
    "has one instance (object) of each of these. Define a does() method for the Robot that prints what its\n",
    "component objects do."
   ]
  },
  {
   "cell_type": "code",
   "execution_count": 29,
   "id": "f3f7f4c2",
   "metadata": {},
   "outputs": [
    {
     "name": "stdout",
     "output_type": "stream",
     "text": [
      "disintegrated crush ring\n"
     ]
    }
   ],
   "source": [
    "class Laser:\n",
    "    def does(self):\n",
    "        return \"disintegrated\"\n",
    "class Claw:\n",
    "    def does(self):\n",
    "        return \"crush\"\n",
    "class Smartphone:\n",
    "    def does(self):\n",
    "        return \"ring\"\n",
    "\n",
    "class Robot():\n",
    "    lr=Laser()\n",
    "    cl=Claw()\n",
    "    sp=Smartphone()\n",
    "    def does(self):\n",
    "        print(self.lr.does(),self.cl.does(),self.sp.does())\n",
    "rb=Robot()\n",
    "rb.does()"
   ]
  },
  {
   "cell_type": "code",
   "execution_count": null,
   "id": "702d5e8d",
   "metadata": {},
   "outputs": [],
   "source": []
  },
  {
   "cell_type": "code",
   "execution_count": null,
   "id": "bf12ab52",
   "metadata": {},
   "outputs": [],
   "source": []
  },
  {
   "cell_type": "code",
   "execution_count": null,
   "id": "ae32ca5f",
   "metadata": {},
   "outputs": [],
   "source": []
  },
  {
   "cell_type": "code",
   "execution_count": null,
   "id": "eac1dee5",
   "metadata": {},
   "outputs": [],
   "source": []
  }
 ],
 "metadata": {
  "kernelspec": {
   "display_name": "Python 3",
   "language": "python",
   "name": "python3"
  },
  "language_info": {
   "codemirror_mode": {
    "name": "ipython",
    "version": 3
   },
   "file_extension": ".py",
   "mimetype": "text/x-python",
   "name": "python",
   "nbconvert_exporter": "python",
   "pygments_lexer": "ipython3",
   "version": "3.8.8"
  }
 },
 "nbformat": 4,
 "nbformat_minor": 5
}
