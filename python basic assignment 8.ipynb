{
 "cells": [
  {
   "cell_type": "markdown",
   "id": "2a01edd0",
   "metadata": {},
   "source": [
    "1. Is the Python Standard Library included with PyInputPlus?\n",
    "Ans- No PyInputPlus is not included in standard python library, you have to import it from PyPI repository and intall it vide pip install PyInputPlus"
   ]
  },
  {
   "cell_type": "markdown",
   "id": "eb0dbbd1",
   "metadata": {},
   "source": [
    "2. Why is PyInputPlus commonly imported with import pyinputplus as pypi\n",
    "Ans- Since pyinputplus is a separate module and it is too long to use so we can use shortcut pypi instead to import and use functions of pyinputplus module "
   ]
  },
  {
   "cell_type": "markdown",
   "id": "dded84c4",
   "metadata": {},
   "source": [
    "3. How do you distinguish between inputInt() and inputFloat()?\n",
    "Ans- Both are part of pyinputplus module and used for different types of inputs. inputInt() only allows integer values to enter as inputs & returns an int value and inputFloat() only allows float input & returns a float value"
   ]
  },
  {
   "cell_type": "code",
   "execution_count": 4,
   "id": "d242a401",
   "metadata": {},
   "outputs": [
    {
     "name": "stdout",
     "output_type": "stream",
     "text": [
      "enter any number within the range of 0 and 99--5\n"
     ]
    }
   ],
   "source": [
    "#4. Using PyInputPlus, how do you ensure that the user enters a whole number between 0 and 99?\n",
    "import pyinputplus as pypi\n",
    "x=pypi.inputInt(\"enter any number within the range of 0 and 99--\",min=0,max=99,limit=3)"
   ]
  },
  {
   "cell_type": "markdown",
   "id": "8873f0c3",
   "metadata": {},
   "source": [
    "5. What is transferred to the keyword arguments allowRegexes and blockRegexes?\n",
    "Ans- We provide the key word arguments with regular expressions that are used to find out a particular pattern either to block it with blockRegees or allow the usage of the same through allowRegexes"
   ]
  },
  {
   "cell_type": "markdown",
   "id": "82ba4e64",
   "metadata": {},
   "source": [
    "6. If a blank input is entered three times, what does inputStr(limit=3) do?\n",
    "Ans- After 3 attempts to enter input since blank is blocked by default it will stop asking for input after 3 failed attempts"
   ]
  },
  {
   "cell_type": "markdown",
   "id": "97a70a8a",
   "metadata": {},
   "source": [
    "7. If blank input is entered three times, what does inputStr(limit=3, default='hello') do?\n",
    "Ans- After 3 failed attempts to give input the default input of 'hello' is provided as an input"
   ]
  },
  {
   "cell_type": "code",
   "execution_count": null,
   "id": "aefbef75",
   "metadata": {},
   "outputs": [],
   "source": []
  },
  {
   "cell_type": "markdown",
   "id": "fa9bb780",
   "metadata": {},
   "source": [
    "pip install PyInputPlus \n",
    "import pyinputplus as pypi\n",
    "\n",
    "\n",
    "pypi.inputInt()\n",
    "pypi.inputNum()\n",
    "pypi.inputStr()\n",
    "pypi.inputFloat()\n",
    "pypi.inputBool()\n",
    "pypi.inputYesNo()\n",
    "pypi.inputDate()\n",
    "pypi.inputDatetime()\n",
    "pypi.inputTime()\n",
    "pypi.inputEmail()\n",
    "pypi.inputChoice()\n",
    "pypi.inputMenu()\n"
   ]
  }
 ],
 "metadata": {
  "kernelspec": {
   "display_name": "Python 3",
   "language": "python",
   "name": "python3"
  },
  "language_info": {
   "codemirror_mode": {
    "name": "ipython",
    "version": 3
   },
   "file_extension": ".py",
   "mimetype": "text/x-python",
   "name": "python",
   "nbconvert_exporter": "python",
   "pygments_lexer": "ipython3",
   "version": "3.8.8"
  }
 },
 "nbformat": 4,
 "nbformat_minor": 5
}
