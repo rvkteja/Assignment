{
 "cells": [
  {
   "cell_type": "markdown",
   "id": "a772ade5",
   "metadata": {},
   "source": [
    "1. To what does a relative path refer?\n",
    "Ans- relative path refers to the address of a file with respect to a particular folder or current directory. It is used to navigate from the current directory to the target directory or files inside of that current directory"
   ]
  },
  {
   "cell_type": "markdown",
   "id": "6b05cf4f",
   "metadata": {},
   "source": [
    "2. What does an absolute path start with your operating system?\n",
    "Ans- An absolute path refers to the path that starts from the root directory as in C:\\movies\\titanic in windows operating system"
   ]
  },
  {
   "cell_type": "markdown",
   "id": "b7d377d9",
   "metadata": {},
   "source": [
    "3.What do the functions os.getcwd() and os.chdir() do?\n",
    "Ans- os.getcwd() will give us the path of the current working directory and os.chdir() is used to change the current directory to another target directory"
   ]
  },
  {
   "cell_type": "markdown",
   "id": "4cef1fe1",
   "metadata": {},
   "source": [
    "4. What are the . and .. folders?\n",
    "Ans- . represents the current folder we can access a file in the current folder by mentioning .\\file.txt and .. represents the parent folder which can be used to go one level up for example C:\\teja\\movies we can use shortcut as ..\\movie"
   ]
  },
  {
   "cell_type": "markdown",
   "id": "dbfc67cf",
   "metadata": {},
   "source": [
    "5. In C:\\bacon\\eggs\\spam.txt, which part is the dir name, and which part is the base name?\n",
    "Ans eggs is the directory name or parent folder name and spam is the basename the last component of the path name"
   ]
  },
  {
   "cell_type": "markdown",
   "id": "0ed6846b",
   "metadata": {},
   "source": [
    "6. What are the three “mode” arguments that can be passed to the open() function?\n",
    "Ans- w-write mode\n",
    "r-read mode\n",
    "a-append mode"
   ]
  },
  {
   "cell_type": "markdown",
   "id": "a4be31d0",
   "metadata": {},
   "source": [
    "7. What happens if an existing file is opened in write mode?\n",
    "Ans-If an existing file is opened in a write mode it will replace the existing data and write the new data to avoid that we can open in append mode. Also if a new file is opened in write mode it will create a new file and write the data."
   ]
  },
  {
   "cell_type": "markdown",
   "id": "6780e153",
   "metadata": {},
   "source": [
    "8. How do you tell the difference between read() and readlines()?\n",
    "Ans- read() function is used read a file in python as a stream of characters and continues till the end of the file and readlines() will be used to read a file line wise in python, it returns a list of lines from the stream"
   ]
  },
  {
   "cell_type": "markdown",
   "id": "3340a2fc",
   "metadata": {},
   "source": [
    "9. What data structure does a shelf value resemble?\n",
    "Ans-Shelf value resembles a dictionary data structure with keys and values"
   ]
  },
  {
   "cell_type": "code",
   "execution_count": null,
   "id": "2fe60234",
   "metadata": {},
   "outputs": [],
   "source": []
  },
  {
   "cell_type": "code",
   "execution_count": null,
   "id": "1b7591f8",
   "metadata": {},
   "outputs": [],
   "source": []
  }
 ],
 "metadata": {
  "kernelspec": {
   "display_name": "Python 3",
   "language": "python",
   "name": "python3"
  },
  "language_info": {
   "codemirror_mode": {
    "name": "ipython",
    "version": 3
   },
   "file_extension": ".py",
   "mimetype": "text/x-python",
   "name": "python",
   "nbconvert_exporter": "python",
   "pygments_lexer": "ipython3",
   "version": "3.8.8"
  }
 },
 "nbformat": 4,
 "nbformat_minor": 5
}
