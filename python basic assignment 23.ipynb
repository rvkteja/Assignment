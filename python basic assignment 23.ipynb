{
 "cells": [
  {
   "cell_type": "code",
   "execution_count": 2,
   "id": "d886a552",
   "metadata": {},
   "outputs": [
    {
     "name": "stdout",
     "output_type": "stream",
     "text": [
      "1 2 8\n"
     ]
    }
   ],
   "source": [
    "#1. What is the result of the code, and why?\n",
    "def func(a, b=6, c=8):\n",
    "    print(a, b, c)\n",
    "func(1, 2)\n",
    "#Ans- Here function is defined with 3 parameters of a,b,c but b and c are statically assigned 6 and 8 but the func(1,2)\n",
    "#passed b=2 which will replace 6 and final output is 1,2,8"
   ]
  },
  {
   "cell_type": "code",
   "execution_count": 2,
   "id": "35358451",
   "metadata": {},
   "outputs": [
    {
     "name": "stdout",
     "output_type": "stream",
     "text": [
      "1 2 3\n"
     ]
    }
   ],
   "source": [
    "#2. What is the result of this code, and why?\n",
    "def func(a, b, c=5):\n",
    "    print(a, b, c)\n",
    "func(1, c=3, b=2)\n",
    "#Ans- a and b are given as 1,2 in function call while c will replace 5 to 3 and print 1,2,3"
   ]
  },
  {
   "cell_type": "code",
   "execution_count": 7,
   "id": "81d442d6",
   "metadata": {},
   "outputs": [
    {
     "name": "stdout",
     "output_type": "stream",
     "text": [
      "1 (2, 3)\n"
     ]
    }
   ],
   "source": [
    "#3. How about this code: what is its result, and why?\n",
    "def func(a, *pargs):\n",
    "    print(a, pargs)\n",
    "func(1, 2, 3)\n",
    "\n",
    "#Ans- a will return 1 while *args is used for passing a sequence of inputs it will take 2 & 3 and return them"
   ]
  },
  {
   "cell_type": "code",
   "execution_count": 10,
   "id": "1b04afcc",
   "metadata": {},
   "outputs": [
    {
     "name": "stdout",
     "output_type": "stream",
     "text": [
      "1 {'c': 3, 'b': 2}\n"
     ]
    }
   ],
   "source": [
    "#4. What does this code print, and why?\n",
    "def func(a, **kargs):\n",
    "    print(a, kargs)\n",
    "func(a=1, c=3, b=2)\n",
    "#Ans- a will return 1 while **kwargs takes input in the form of key value pairs and return output in the form of a \n",
    "# dictionary as in c:3 and b:2"
   ]
  },
  {
   "cell_type": "code",
   "execution_count": 29,
   "id": "051fde7d",
   "metadata": {},
   "outputs": [
    {
     "name": "stdout",
     "output_type": "stream",
     "text": [
      "1 5 6 5\n"
     ]
    }
   ],
   "source": [
    "#5. What gets printed by this, and explain?\n",
    "def func(a, b, c=8, d=5): \n",
    "    print(a, b, c, d)\n",
    "func(1, *(5,6))\n",
    "#ans-  here a will take 1 which is the first argument, b will take 5 & c will take 6 which are second and third arguments \n",
    "# while d will remain unchanged at 5"
   ]
  },
  {
   "cell_type": "code",
   "execution_count": 15,
   "id": "add48372",
   "metadata": {},
   "outputs": [
    {
     "name": "stdout",
     "output_type": "stream",
     "text": [
      "2 ['x'] {'a': 0, 2: 'y'}\n",
      "5 ['x'] {'a': 0, 2: 'y'}\n"
     ]
    }
   ],
   "source": [
    "#6. what is the result of this, and explain?\n",
    "def func(a, b, c): \n",
    "    a = 2; b[0] = 'x'; c[a] = 'y';\n",
    "    print(a,b,c)\n",
    "l=5; m=[1]; n={'a':0}\n",
    "func(l, m, n)\n",
    "\n",
    "print(l, m, n)\n"
   ]
  },
  {
   "cell_type": "raw",
   "id": "7b4bf5ff",
   "metadata": {},
   "source": [
    "#Ans- When we pass variables into as function we actually pass the reference of the object stored in memory, so when l is passed into the func() we have passed the reference of int object 5 but a has taken another reference of int object 2 as per the assignment so l remains unchanged\n",
    "Whereas when m object of list class is passed into the function the same reference is used by b to reassign element at 0th index to \"x\" string literal. This change is made at the reference provide by m so changes are made to m also\n",
    "similarly when n of dict class is passsed element \"y\" is added to key 1 referenced by a so a new key value pair is added"
   ]
  },
  {
   "cell_type": "code",
   "execution_count": null,
   "id": "8c8f6fe2",
   "metadata": {},
   "outputs": [],
   "source": []
  },
  {
   "cell_type": "code",
   "execution_count": null,
   "id": "142cd0d3",
   "metadata": {},
   "outputs": [],
   "source": []
  }
 ],
 "metadata": {
  "kernelspec": {
   "display_name": "Python 3",
   "language": "python",
   "name": "python3"
  },
  "language_info": {
   "codemirror_mode": {
    "name": "ipython",
    "version": 3
   },
   "file_extension": ".py",
   "mimetype": "text/x-python",
   "name": "python",
   "nbconvert_exporter": "python",
   "pygments_lexer": "ipython3",
   "version": "3.8.8"
  }
 },
 "nbformat": 4,
 "nbformat_minor": 5
}
