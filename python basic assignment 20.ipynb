{
 "cells": [
  {
   "cell_type": "code",
   "execution_count": null,
   "id": "861f9f04",
   "metadata": {},
   "outputs": [],
   "source": [
    "1. Set the variable test1 to the string &#39;This is a test of the emergency text system,&#39; and save test1 to a\n",
    "file named test.txt."
   ]
  },
  {
   "cell_type": "code",
   "execution_count": 4,
   "id": "bcf974ae",
   "metadata": {},
   "outputs": [
    {
     "data": {
      "text/plain": [
       "'This is a test of the emergency text system'"
      ]
     },
     "execution_count": 4,
     "metadata": {},
     "output_type": "execute_result"
    }
   ],
   "source": [
    "test1=\"This is a test of the emergency text system\"\n",
    "file=open(\"test.txt\",\"w\")\n",
    "file.write(test1)\n",
    "file.close()\n"
   ]
  },
  {
   "cell_type": "code",
   "execution_count": null,
   "id": "ea29cd2d",
   "metadata": {},
   "outputs": [],
   "source": [
    "2. Read the contents of the file test.txt into the variable test2. Is there a difference between test 1\n",
    "and test 2?"
   ]
  },
  {
   "cell_type": "code",
   "execution_count": 5,
   "id": "40978cf7",
   "metadata": {},
   "outputs": [
    {
     "data": {
      "text/plain": [
       "'This is a test of the emergency text system'"
      ]
     },
     "execution_count": 5,
     "metadata": {},
     "output_type": "execute_result"
    }
   ],
   "source": [
    "test2=open(\"test.txt\")\n",
    "test2.read()"
   ]
  },
  {
   "cell_type": "code",
   "execution_count": 218,
   "id": "5e6396d6",
   "metadata": {},
   "outputs": [
    {
     "name": "stdout",
     "output_type": "stream",
     "text": [
      "<class 'str'>\n",
      "<class '_io.TextIOWrapper'>\n"
     ]
    }
   ],
   "source": [
    "print(type(test1))\n",
    "print(type(test2))\n",
    "# test1 is a variable of string class while test2 is a object of Io text wrapper which can only be read with help of \n",
    "#read() method"
   ]
  },
  {
   "cell_type": "raw",
   "id": "9760d7da",
   "metadata": {},
   "source": [
    "3. Create a CSV file called books.csv by using these lines:\n",
    "title,author,year\n",
    "The Weirdstone of Brisingamen,Alan Garner,1960\n",
    "Perdido Street Station,China Miéville,2000\n",
    "Thud!,Terry Pratchett,2005\n",
    "The Spellman Files,Lisa Lutz,2007\n",
    "Small Gods,Terry Pratchett,1992"
   ]
  },
  {
   "cell_type": "code",
   "execution_count": 1,
   "id": "ca6bff83",
   "metadata": {},
   "outputs": [
    {
     "data": {
      "text/plain": [
       "[['The Weirdstone of Brisingamen', 'Alan Garner', '1960'],\n",
       " ['Perdido Street Station', 'China Miéville', '2000'],\n",
       " ['Thud!', 'Terry Pratchett', '2005'],\n",
       " ['The Spellman Files', 'Lisa Lutz', '2007'],\n",
       " ['Small Gods', 'Terry Pratchett', '1992']]"
      ]
     },
     "execution_count": 1,
     "metadata": {},
     "output_type": "execute_result"
    }
   ],
   "source": [
    "import csv\n",
    "file=open(\"book.csv\",\"w\",newline=\"\")\n",
    "filecsv=csv.writer(file)\n",
    "filecsv.writerows([['The Weirdstone of Brisingamen','Alan Garner',1960],['Perdido Street Station','China Miéville','2000']])\n",
    "filecsv.writerows([['Thud!','Terry Pratchett',2005],['The Spellman Files','Lisa Lutz',2007],['Small Gods','Terry Pratchett',1992]])\n",
    "file.close()\n",
    "\n",
    "import csv\n",
    "file=open(\"book.csv\")\n",
    "filereader=csv.reader(file)\n",
    "data=list(filereader)\n",
    "data"
   ]
  },
  {
   "cell_type": "code",
   "execution_count": 229,
   "id": "065a457f",
   "metadata": {},
   "outputs": [
    {
     "data": {
      "text/plain": [
       "'C:\\\\Users\\\\tejar\\\\python_files'"
      ]
     },
     "execution_count": 229,
     "metadata": {},
     "output_type": "execute_result"
    }
   ],
   "source": [
    "import os\n",
    "os.getcwd()"
   ]
  },
  {
   "cell_type": "raw",
   "id": "90691d6e",
   "metadata": {},
   "source": [
    "4. Use the sqlite3 module to create a SQLite database called books.db, and a table called books with\n",
    "these fields: title (text), author (text), and year (integer)."
   ]
  },
  {
   "cell_type": "code",
   "execution_count": 205,
   "id": "e490aca4",
   "metadata": {},
   "outputs": [],
   "source": [
    "import mysql.connector as connection\n",
    "mydb=connection.connect(host=\"localhost\",user=\"root\",password=\"mysql\",use_pure=True)\n",
    "mycursor=mydb.cursor()\n",
    "mycursor.execute(\"create database books\")\n",
    "mydb.close()"
   ]
  },
  {
   "cell_type": "code",
   "execution_count": 206,
   "id": "b344c329",
   "metadata": {},
   "outputs": [],
   "source": [
    "try:\n",
    "    mydb=connection.connect(host=\"localhost\",user=\"root\",passwd=\"mysql\",database=\"books\",use_pure=True)\n",
    "    query=\"create table books(title varchar(40),author varchar(20),year int)\"\n",
    "    mycursor=mydb.cursor()\n",
    "    mycursor.execute(query)\n",
    "    mydb.close()\n",
    "except Exception as e:\n",
    "    mydb.close()\n",
    "    print(str(e))\n"
   ]
  },
  {
   "cell_type": "code",
   "execution_count": 239,
   "id": "47372b95",
   "metadata": {},
   "outputs": [
    {
     "data": {
      "text/plain": [
       "[('books',)]"
      ]
     },
     "execution_count": 239,
     "metadata": {},
     "output_type": "execute_result"
    }
   ],
   "source": [
    "mydb=connection.connect(host=\"localhost\",user=\"root\",passwd=\"mysql\",database=\"books\",use_pure=True)\n",
    "mycursor=mydb.cursor()\n",
    "mycursor.execute(\"show tables\")\n",
    "res=mycursor.fetchall()\n",
    "mydb.close()\n",
    "res"
   ]
  },
  {
   "cell_type": "code",
   "execution_count": null,
   "id": "abed1fa8",
   "metadata": {},
   "outputs": [],
   "source": [
    "5. Read books.csv and insert its data into the book table."
   ]
  },
  {
   "cell_type": "code",
   "execution_count": 240,
   "id": "ca506b49",
   "metadata": {},
   "outputs": [],
   "source": [
    "import csv\n",
    "file=open(\"book.csv\")\n",
    "filereader=csv.reader(file)\n",
    "data=list(filereader)\n",
    "\n",
    "try:\n",
    "    mydb=connection.connect(host=\"localhost\",user=\"root\",passwd=\"mysql\",database=\"books\",use_pure=True)\n",
    "    query=\"insert into books(title,author,year) values(%s,%s,%s)\"\n",
    "    mycursor=mydb.cursor()\n",
    "    mycursor.executemany(query,data)\n",
    "    mydb.commit()\n",
    "    mydb.close()\n",
    "\n",
    "except Exception as e:\n",
    "    mydb.close()\n",
    "    print(str(e))"
   ]
  },
  {
   "cell_type": "code",
   "execution_count": null,
   "id": "6c3bf32d",
   "metadata": {},
   "outputs": [],
   "source": [
    "6. Select and print the title column from the book table in alphabetical order."
   ]
  },
  {
   "cell_type": "code",
   "execution_count": 213,
   "id": "7b216e3e",
   "metadata": {},
   "outputs": [
    {
     "name": "stdout",
     "output_type": "stream",
     "text": [
      "Perdido Street Station\n",
      "Small Gods\n",
      "The Spellman Files\n",
      "The Weirdstone of Brisingamen\n",
      "Thud!\n"
     ]
    }
   ],
   "source": [
    "try:\n",
    "    mydb=connection.connect(host=\"localhost\",user=\"root\",passwd=\"mysql\",database=\"books\",use_pure=True)\n",
    "    query=\"select title from books order by title asc\"\n",
    "    mycursor=mydb.cursor()\n",
    "    mycursor.execute(query)\n",
    "    res=mycursor.fetchall()\n",
    "    for i in res:\n",
    "        print(i[0])\n",
    "    mydb.close()\n",
    "except Exception as e:\n",
    "    mydb.close()\n",
    "    print(str(e))"
   ]
  },
  {
   "cell_type": "code",
   "execution_count": null,
   "id": "784b84ab",
   "metadata": {},
   "outputs": [],
   "source": [
    "7. From the book table, select and print all columns in the order of publication."
   ]
  },
  {
   "cell_type": "code",
   "execution_count": 217,
   "id": "4ebd9241",
   "metadata": {},
   "outputs": [
    {
     "name": "stdout",
     "output_type": "stream",
     "text": [
      "('The Weirdstone of Brisingamen', 'Alan Garner', 1960)\n",
      "('Small Gods', 'Terry Pratchett', 1992)\n",
      "('Perdido Street Station', 'China Miéville', 2000)\n",
      "('Thud!', 'Terry Pratchett', 2005)\n",
      "('The Spellman Files', 'Lisa Lutz', 2007)\n"
     ]
    }
   ],
   "source": [
    "try:\n",
    "    import mysql.connector as connection\n",
    "    mydb=connection.connect(host=\"localhost\",user=\"root\",passwd=\"mysql\",database=\"books\",use_pure=True)\n",
    "    query=\"select * from books order by year asc\"\n",
    "    mycursor=mydb.cursor()\n",
    "    mycursor.execute(query)\n",
    "    res=mycursor.fetchall()\n",
    "    for i in res:\n",
    "        print(i)\n",
    "    mydb.close()\n",
    "except Exception as e:\n",
    "    mydb.close()\n",
    "    print(\"Error\",str(e))\n",
    "    \n",
    "    "
   ]
  },
  {
   "cell_type": "code",
   "execution_count": null,
   "id": "fb94e18d",
   "metadata": {},
   "outputs": [],
   "source": [
    "8. Use the sqlalchemy module to connect to the sqlite3 database books.db that you just made in\n",
    "exercise 6."
   ]
  },
  {
   "cell_type": "code",
   "execution_count": null,
   "id": "d8d244a0",
   "metadata": {},
   "outputs": [],
   "source": []
  },
  {
   "cell_type": "code",
   "execution_count": null,
   "id": "514fd59b",
   "metadata": {},
   "outputs": [],
   "source": [
    "9. Install the Redis server and the Python redis library (pip install redis) on your computer. Create a\n",
    "Redis hash called test with the fields count (1) and name (&#39;Fester Bestertester&#39;). Print all the fields for\n",
    "test."
   ]
  },
  {
   "cell_type": "code",
   "execution_count": null,
   "id": "1e1fc8d2",
   "metadata": {},
   "outputs": [],
   "source": []
  },
  {
   "cell_type": "code",
   "execution_count": null,
   "id": "dacf4941",
   "metadata": {},
   "outputs": [],
   "source": [
    "10. Increment the count field of test and print it."
   ]
  },
  {
   "cell_type": "code",
   "execution_count": null,
   "id": "4a82f5ae",
   "metadata": {},
   "outputs": [],
   "source": []
  },
  {
   "cell_type": "code",
   "execution_count": null,
   "id": "4d316341",
   "metadata": {},
   "outputs": [],
   "source": []
  },
  {
   "cell_type": "code",
   "execution_count": null,
   "id": "b3a64d05",
   "metadata": {},
   "outputs": [],
   "source": []
  },
  {
   "cell_type": "code",
   "execution_count": null,
   "id": "6c201207",
   "metadata": {},
   "outputs": [],
   "source": []
  },
  {
   "cell_type": "code",
   "execution_count": null,
   "id": "66644510",
   "metadata": {},
   "outputs": [],
   "source": []
  },
  {
   "cell_type": "code",
   "execution_count": null,
   "id": "0d726bd2",
   "metadata": {},
   "outputs": [],
   "source": []
  },
  {
   "cell_type": "code",
   "execution_count": null,
   "id": "f72a9482",
   "metadata": {},
   "outputs": [],
   "source": []
  },
  {
   "cell_type": "code",
   "execution_count": null,
   "id": "02d57962",
   "metadata": {},
   "outputs": [],
   "source": []
  }
 ],
 "metadata": {
  "kernelspec": {
   "display_name": "Python 3",
   "language": "python",
   "name": "python3"
  },
  "language_info": {
   "codemirror_mode": {
    "name": "ipython",
    "version": 3
   },
   "file_extension": ".py",
   "mimetype": "text/x-python",
   "name": "python",
   "nbconvert_exporter": "python",
   "pygments_lexer": "ipython3",
   "version": "3.8.8"
  }
 },
 "nbformat": 4,
 "nbformat_minor": 5
}
